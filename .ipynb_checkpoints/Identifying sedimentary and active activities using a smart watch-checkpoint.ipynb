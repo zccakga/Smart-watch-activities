{
 "cells": [
  {
   "cell_type": "markdown",
   "metadata": {},
   "source": [
    "# Identifying sedimentary and active activities using a smart watch"
   ]
  },
  {
   "cell_type": "code",
   "execution_count": 68,
   "metadata": {},
   "outputs": [],
   "source": [
    "import pandas as pd\n",
    "import glob \n",
    "import os\n",
    "import numpy as np\n",
    "from tqdm import tqdm\n",
    "from sklearn.metrics import accuracy_score\n",
    "from sklearn.model_selection import train_test_split\n",
    "from sklearn.tree import DecisionTreeClassifier"
   ]
  },
  {
   "cell_type": "code",
   "execution_count": 4,
   "metadata": {},
   "outputs": [],
   "source": [
    "df_phone_acc = pd.read_csv('./wisdm-dataset/raw/phone/accel/data_1601_accel_phone.txt', sep=',',names=['id','ac','timestamp','x','y','z'])"
   ]
  },
  {
   "cell_type": "code",
   "execution_count": 5,
   "metadata": {},
   "outputs": [
    {
     "data": {
      "text/html": [
       "<div>\n",
       "<style scoped>\n",
       "    .dataframe tbody tr th:only-of-type {\n",
       "        vertical-align: middle;\n",
       "    }\n",
       "\n",
       "    .dataframe tbody tr th {\n",
       "        vertical-align: top;\n",
       "    }\n",
       "\n",
       "    .dataframe thead th {\n",
       "        text-align: right;\n",
       "    }\n",
       "</style>\n",
       "<table border=\"1\" class=\"dataframe\">\n",
       "  <thead>\n",
       "    <tr style=\"text-align: right;\">\n",
       "      <th></th>\n",
       "      <th>id</th>\n",
       "      <th>ac</th>\n",
       "      <th>timestamp</th>\n",
       "      <th>x</th>\n",
       "      <th>y</th>\n",
       "      <th>z</th>\n",
       "    </tr>\n",
       "  </thead>\n",
       "  <tbody>\n",
       "    <tr>\n",
       "      <td>0</td>\n",
       "      <td>1601</td>\n",
       "      <td>A</td>\n",
       "      <td>265073308304101</td>\n",
       "      <td>4.703409</td>\n",
       "      <td>9.127296</td>\n",
       "      <td>0.06404489;</td>\n",
       "    </tr>\n",
       "    <tr>\n",
       "      <td>1</td>\n",
       "      <td>1601</td>\n",
       "      <td>A</td>\n",
       "      <td>265073348330612</td>\n",
       "      <td>5.354632</td>\n",
       "      <td>15.635334</td>\n",
       "      <td>-0.6290765;</td>\n",
       "    </tr>\n",
       "    <tr>\n",
       "      <td>2</td>\n",
       "      <td>1601</td>\n",
       "      <td>A</td>\n",
       "      <td>265073388368581</td>\n",
       "      <td>6.399701</td>\n",
       "      <td>12.926893</td>\n",
       "      <td>0.45010993;</td>\n",
       "    </tr>\n",
       "    <tr>\n",
       "      <td>3</td>\n",
       "      <td>1601</td>\n",
       "      <td>A</td>\n",
       "      <td>265073428111445</td>\n",
       "      <td>10.532093</td>\n",
       "      <td>13.207614</td>\n",
       "      <td>-1.0247183;</td>\n",
       "    </tr>\n",
       "    <tr>\n",
       "      <td>4</td>\n",
       "      <td>1601</td>\n",
       "      <td>A</td>\n",
       "      <td>265073468081082</td>\n",
       "      <td>16.129736</td>\n",
       "      <td>2.683301</td>\n",
       "      <td>1.1426327;</td>\n",
       "    </tr>\n",
       "    <tr>\n",
       "      <td>...</td>\n",
       "      <td>...</td>\n",
       "      <td>...</td>\n",
       "      <td>...</td>\n",
       "      <td>...</td>\n",
       "      <td>...</td>\n",
       "      <td>...</td>\n",
       "    </tr>\n",
       "    <tr>\n",
       "      <td>81452</td>\n",
       "      <td>1601</td>\n",
       "      <td>S</td>\n",
       "      <td>258908699056416</td>\n",
       "      <td>2.015319</td>\n",
       "      <td>9.988011</td>\n",
       "      <td>0.74639237;</td>\n",
       "    </tr>\n",
       "    <tr>\n",
       "      <td>81453</td>\n",
       "      <td>1601</td>\n",
       "      <td>S</td>\n",
       "      <td>258908738947822</td>\n",
       "      <td>1.681927</td>\n",
       "      <td>10.074801</td>\n",
       "      <td>1.7262194;</td>\n",
       "    </tr>\n",
       "    <tr>\n",
       "      <td>81454</td>\n",
       "      <td>1601</td>\n",
       "      <td>S</td>\n",
       "      <td>258908778855321</td>\n",
       "      <td>1.148020</td>\n",
       "      <td>9.127296</td>\n",
       "      <td>1.4921862;</td>\n",
       "    </tr>\n",
       "    <tr>\n",
       "      <td>81455</td>\n",
       "      <td>1601</td>\n",
       "      <td>S</td>\n",
       "      <td>258908818435165</td>\n",
       "      <td>1.417966</td>\n",
       "      <td>9.126099</td>\n",
       "      <td>1.0779893;</td>\n",
       "    </tr>\n",
       "    <tr>\n",
       "      <td>81456</td>\n",
       "      <td>1601</td>\n",
       "      <td>S</td>\n",
       "      <td>258908858366259</td>\n",
       "      <td>1.383250</td>\n",
       "      <td>10.053851</td>\n",
       "      <td>2.3732524;</td>\n",
       "    </tr>\n",
       "  </tbody>\n",
       "</table>\n",
       "<p>81457 rows × 6 columns</p>\n",
       "</div>"
      ],
      "text/plain": [
       "         id ac        timestamp          x          y            z\n",
       "0      1601  A  265073308304101   4.703409   9.127296  0.06404489;\n",
       "1      1601  A  265073348330612   5.354632  15.635334  -0.6290765;\n",
       "2      1601  A  265073388368581   6.399701  12.926893  0.45010993;\n",
       "3      1601  A  265073428111445  10.532093  13.207614  -1.0247183;\n",
       "4      1601  A  265073468081082  16.129736   2.683301   1.1426327;\n",
       "...     ... ..              ...        ...        ...          ...\n",
       "81452  1601  S  258908699056416   2.015319   9.988011  0.74639237;\n",
       "81453  1601  S  258908738947822   1.681927  10.074801   1.7262194;\n",
       "81454  1601  S  258908778855321   1.148020   9.127296   1.4921862;\n",
       "81455  1601  S  258908818435165   1.417966   9.126099   1.0779893;\n",
       "81456  1601  S  258908858366259   1.383250  10.053851   2.3732524;\n",
       "\n",
       "[81457 rows x 6 columns]"
      ]
     },
     "execution_count": 5,
     "metadata": {},
     "output_type": "execute_result"
    }
   ],
   "source": [
    "df_phone_acc"
   ]
  },
  {
   "cell_type": "markdown",
   "metadata": {},
   "source": [
    "<h3> Combining files for accelerator and gyroscope data </h3>"
   ]
  },
  {
   "cell_type": "code",
   "execution_count": 2,
   "metadata": {},
   "outputs": [
    {
     "data": {
      "text/html": [
       "<div>\n",
       "<style scoped>\n",
       "    .dataframe tbody tr th:only-of-type {\n",
       "        vertical-align: middle;\n",
       "    }\n",
       "\n",
       "    .dataframe tbody tr th {\n",
       "        vertical-align: top;\n",
       "    }\n",
       "\n",
       "    .dataframe thead th {\n",
       "        text-align: right;\n",
       "    }\n",
       "</style>\n",
       "<table border=\"1\" class=\"dataframe\">\n",
       "  <thead>\n",
       "    <tr style=\"text-align: right;\">\n",
       "      <th></th>\n",
       "      <th>id</th>\n",
       "      <th>ac</th>\n",
       "      <th>timestamp</th>\n",
       "      <th>a-x</th>\n",
       "      <th>a-y</th>\n",
       "      <th>a-z</th>\n",
       "    </tr>\n",
       "  </thead>\n",
       "  <tbody>\n",
       "    <tr>\n",
       "      <td>0</td>\n",
       "      <td>1600</td>\n",
       "      <td>A</td>\n",
       "      <td>90426708196641</td>\n",
       "      <td>7.091625</td>\n",
       "      <td>-0.591667</td>\n",
       "      <td>8.195502;</td>\n",
       "    </tr>\n",
       "    <tr>\n",
       "      <td>1</td>\n",
       "      <td>1600</td>\n",
       "      <td>A</td>\n",
       "      <td>90426757696641</td>\n",
       "      <td>4.972757</td>\n",
       "      <td>-0.158317</td>\n",
       "      <td>6.6967316;</td>\n",
       "    </tr>\n",
       "    <tr>\n",
       "      <td>2</td>\n",
       "      <td>1600</td>\n",
       "      <td>A</td>\n",
       "      <td>90426807196641</td>\n",
       "      <td>3.253720</td>\n",
       "      <td>-0.191835</td>\n",
       "      <td>6.107758;</td>\n",
       "    </tr>\n",
       "    <tr>\n",
       "      <td>3</td>\n",
       "      <td>1600</td>\n",
       "      <td>A</td>\n",
       "      <td>90426856696641</td>\n",
       "      <td>2.801216</td>\n",
       "      <td>-0.155922</td>\n",
       "      <td>5.997625;</td>\n",
       "    </tr>\n",
       "    <tr>\n",
       "      <td>4</td>\n",
       "      <td>1600</td>\n",
       "      <td>A</td>\n",
       "      <td>90426906196641</td>\n",
       "      <td>3.770868</td>\n",
       "      <td>-1.051354</td>\n",
       "      <td>7.731027;</td>\n",
       "    </tr>\n",
       "  </tbody>\n",
       "</table>\n",
       "</div>"
      ],
      "text/plain": [
       "     id ac       timestamp       a-x       a-y         a-z\n",
       "0  1600  A  90426708196641  7.091625 -0.591667   8.195502;\n",
       "1  1600  A  90426757696641  4.972757 -0.158317  6.6967316;\n",
       "2  1600  A  90426807196641  3.253720 -0.191835   6.107758;\n",
       "3  1600  A  90426856696641  2.801216 -0.155922   5.997625;\n",
       "4  1600  A  90426906196641  3.770868 -1.051354   7.731027;"
      ]
     },
     "execution_count": 2,
     "metadata": {},
     "output_type": "execute_result"
    }
   ],
   "source": [
    "#Combine all files for accel\n",
    "path=\"./wisdm-dataset/raw/watch/accel\"                    \n",
    "all_files = [i for i in glob.glob(os.path.join(path, \"*.txt\"))]  \n",
    "accel_df = pd.concat([pd.read_csv(f,sep=',',names=['id','ac','timestamp','a-x','a-y','a-z']) for f in all_files], ignore_index=True)\n",
    "accel_df.head()"
   ]
  },
  {
   "cell_type": "code",
   "execution_count": 3,
   "metadata": {},
   "outputs": [
    {
     "data": {
      "text/html": [
       "<div>\n",
       "<style scoped>\n",
       "    .dataframe tbody tr th:only-of-type {\n",
       "        vertical-align: middle;\n",
       "    }\n",
       "\n",
       "    .dataframe tbody tr th {\n",
       "        vertical-align: top;\n",
       "    }\n",
       "\n",
       "    .dataframe thead th {\n",
       "        text-align: right;\n",
       "    }\n",
       "</style>\n",
       "<table border=\"1\" class=\"dataframe\">\n",
       "  <thead>\n",
       "    <tr style=\"text-align: right;\">\n",
       "      <th></th>\n",
       "      <th>id</th>\n",
       "      <th>ac</th>\n",
       "      <th>timestamp</th>\n",
       "      <th>g-x</th>\n",
       "      <th>g-y</th>\n",
       "      <th>g-z</th>\n",
       "    </tr>\n",
       "  </thead>\n",
       "  <tbody>\n",
       "    <tr>\n",
       "      <td>0</td>\n",
       "      <td>1600</td>\n",
       "      <td>A</td>\n",
       "      <td>90426757696641</td>\n",
       "      <td>0.314944</td>\n",
       "      <td>-1.022277</td>\n",
       "      <td>-0.3099616;</td>\n",
       "    </tr>\n",
       "    <tr>\n",
       "      <td>1</td>\n",
       "      <td>1600</td>\n",
       "      <td>A</td>\n",
       "      <td>90426807196641</td>\n",
       "      <td>0.387382</td>\n",
       "      <td>-0.618541</td>\n",
       "      <td>-0.048971802;</td>\n",
       "    </tr>\n",
       "    <tr>\n",
       "      <td>2</td>\n",
       "      <td>1600</td>\n",
       "      <td>A</td>\n",
       "      <td>90426856696641</td>\n",
       "      <td>0.070999</td>\n",
       "      <td>-0.209480</td>\n",
       "      <td>-0.1959783;</td>\n",
       "    </tr>\n",
       "    <tr>\n",
       "      <td>3</td>\n",
       "      <td>1600</td>\n",
       "      <td>A</td>\n",
       "      <td>90426906196641</td>\n",
       "      <td>0.037975</td>\n",
       "      <td>0.254976</td>\n",
       "      <td>-0.1565635;</td>\n",
       "    </tr>\n",
       "    <tr>\n",
       "      <td>4</td>\n",
       "      <td>1600</td>\n",
       "      <td>A</td>\n",
       "      <td>90426955696641</td>\n",
       "      <td>0.073129</td>\n",
       "      <td>0.719431</td>\n",
       "      <td>-0.0010349044;</td>\n",
       "    </tr>\n",
       "  </tbody>\n",
       "</table>\n",
       "</div>"
      ],
      "text/plain": [
       "     id ac       timestamp       g-x       g-y             g-z\n",
       "0  1600  A  90426757696641  0.314944 -1.022277     -0.3099616;\n",
       "1  1600  A  90426807196641  0.387382 -0.618541   -0.048971802;\n",
       "2  1600  A  90426856696641  0.070999 -0.209480     -0.1959783;\n",
       "3  1600  A  90426906196641  0.037975  0.254976     -0.1565635;\n",
       "4  1600  A  90426955696641  0.073129  0.719431  -0.0010349044;"
      ]
     },
     "execution_count": 3,
     "metadata": {},
     "output_type": "execute_result"
    }
   ],
   "source": [
    "#Combine all files for gyro\n",
    "path=\"./wisdm-dataset/raw/watch/gyro\"                    \n",
    "all_files = [i for i in glob.glob(os.path.join(path, \"*.txt\"))]  \n",
    "gyro_df = pd.concat([pd.read_csv(f,sep=',',names=['id','ac','timestamp','g-x','g-y','g-z']) for f in all_files], ignore_index=True)\n",
    "gyro_df.head()"
   ]
  },
  {
   "cell_type": "code",
   "execution_count": 36,
   "metadata": {},
   "outputs": [
    {
     "data": {
      "text/html": [
       "<div>\n",
       "<style scoped>\n",
       "    .dataframe tbody tr th:only-of-type {\n",
       "        vertical-align: middle;\n",
       "    }\n",
       "\n",
       "    .dataframe tbody tr th {\n",
       "        vertical-align: top;\n",
       "    }\n",
       "\n",
       "    .dataframe thead th {\n",
       "        text-align: right;\n",
       "    }\n",
       "</style>\n",
       "<table border=\"1\" class=\"dataframe\">\n",
       "  <thead>\n",
       "    <tr style=\"text-align: right;\">\n",
       "      <th></th>\n",
       "      <th>ac</th>\n",
       "      <th>g-x</th>\n",
       "      <th>g-y</th>\n",
       "      <th>g-z</th>\n",
       "    </tr>\n",
       "  </thead>\n",
       "  <tbody>\n",
       "  </tbody>\n",
       "</table>\n",
       "</div>"
      ],
      "text/plain": [
       "Empty DataFrame\n",
       "Columns: [ac, g-x, g-y, g-z]\n",
       "Index: []"
      ]
     },
     "execution_count": 36,
     "metadata": {},
     "output_type": "execute_result"
    }
   ],
   "source": [
    "#Check for missing values -- there are no missing values\n",
    "#accel_df_clean[accel_df_clean.isnull().any(axis=1)]\n",
    "#gyro_df_clean[gyro_df_clean.isnull().any(axis=1)]"
   ]
  },
  {
   "cell_type": "code",
   "execution_count": 7,
   "metadata": {},
   "outputs": [
    {
     "data": {
      "text/html": [
       "<div>\n",
       "<style scoped>\n",
       "    .dataframe tbody tr th:only-of-type {\n",
       "        vertical-align: middle;\n",
       "    }\n",
       "\n",
       "    .dataframe tbody tr th {\n",
       "        vertical-align: top;\n",
       "    }\n",
       "\n",
       "    .dataframe thead th {\n",
       "        text-align: right;\n",
       "    }\n",
       "</style>\n",
       "<table border=\"1\" class=\"dataframe\">\n",
       "  <thead>\n",
       "    <tr style=\"text-align: right;\">\n",
       "      <th></th>\n",
       "      <th>id_x</th>\n",
       "      <th>ac_x</th>\n",
       "      <th>timestamp</th>\n",
       "      <th>a-x</th>\n",
       "      <th>a-y</th>\n",
       "      <th>a-z</th>\n",
       "      <th>id_y</th>\n",
       "      <th>ac_y</th>\n",
       "      <th>g-x</th>\n",
       "      <th>g-y</th>\n",
       "      <th>g-z</th>\n",
       "    </tr>\n",
       "  </thead>\n",
       "  <tbody>\n",
       "    <tr>\n",
       "      <td>0</td>\n",
       "      <td>1600</td>\n",
       "      <td>A</td>\n",
       "      <td>90426757696641</td>\n",
       "      <td>4.972757</td>\n",
       "      <td>-0.158317</td>\n",
       "      <td>6.6967316;</td>\n",
       "      <td>1600</td>\n",
       "      <td>A</td>\n",
       "      <td>0.314944</td>\n",
       "      <td>-1.022277</td>\n",
       "      <td>-0.3099616;</td>\n",
       "    </tr>\n",
       "    <tr>\n",
       "      <td>1</td>\n",
       "      <td>1600</td>\n",
       "      <td>A</td>\n",
       "      <td>90426807196641</td>\n",
       "      <td>3.253720</td>\n",
       "      <td>-0.191835</td>\n",
       "      <td>6.107758;</td>\n",
       "      <td>1600</td>\n",
       "      <td>A</td>\n",
       "      <td>0.387382</td>\n",
       "      <td>-0.618541</td>\n",
       "      <td>-0.048971802;</td>\n",
       "    </tr>\n",
       "    <tr>\n",
       "      <td>2</td>\n",
       "      <td>1600</td>\n",
       "      <td>A</td>\n",
       "      <td>90426856696641</td>\n",
       "      <td>2.801216</td>\n",
       "      <td>-0.155922</td>\n",
       "      <td>5.997625;</td>\n",
       "      <td>1600</td>\n",
       "      <td>A</td>\n",
       "      <td>0.070999</td>\n",
       "      <td>-0.209480</td>\n",
       "      <td>-0.1959783;</td>\n",
       "    </tr>\n",
       "    <tr>\n",
       "      <td>3</td>\n",
       "      <td>1600</td>\n",
       "      <td>A</td>\n",
       "      <td>90426906196641</td>\n",
       "      <td>3.770868</td>\n",
       "      <td>-1.051354</td>\n",
       "      <td>7.731027;</td>\n",
       "      <td>1600</td>\n",
       "      <td>A</td>\n",
       "      <td>0.037975</td>\n",
       "      <td>0.254976</td>\n",
       "      <td>-0.1565635;</td>\n",
       "    </tr>\n",
       "    <tr>\n",
       "      <td>4</td>\n",
       "      <td>1600</td>\n",
       "      <td>A</td>\n",
       "      <td>90426955696641</td>\n",
       "      <td>4.661511</td>\n",
       "      <td>0.169689</td>\n",
       "      <td>9.684695;</td>\n",
       "      <td>1600</td>\n",
       "      <td>A</td>\n",
       "      <td>0.073129</td>\n",
       "      <td>0.719431</td>\n",
       "      <td>-0.0010349044;</td>\n",
       "    </tr>\n",
       "  </tbody>\n",
       "</table>\n",
       "</div>"
      ],
      "text/plain": [
       "   id_x ac_x       timestamp       a-x       a-y         a-z  id_y ac_y  \\\n",
       "0  1600    A  90426757696641  4.972757 -0.158317  6.6967316;  1600    A   \n",
       "1  1600    A  90426807196641  3.253720 -0.191835   6.107758;  1600    A   \n",
       "2  1600    A  90426856696641  2.801216 -0.155922   5.997625;  1600    A   \n",
       "3  1600    A  90426906196641  3.770868 -1.051354   7.731027;  1600    A   \n",
       "4  1600    A  90426955696641  4.661511  0.169689   9.684695;  1600    A   \n",
       "\n",
       "        g-x       g-y             g-z  \n",
       "0  0.314944 -1.022277     -0.3099616;  \n",
       "1  0.387382 -0.618541   -0.048971802;  \n",
       "2  0.070999 -0.209480     -0.1959783;  \n",
       "3  0.037975  0.254976     -0.1565635;  \n",
       "4  0.073129  0.719431  -0.0010349044;  "
      ]
     },
     "execution_count": 7,
     "metadata": {},
     "output_type": "execute_result"
    }
   ],
   "source": [
    "combined_df = accel_df.merge(gyro_df, on='timestamp', how='inner')\n",
    "combined_df.head()"
   ]
  },
  {
   "cell_type": "markdown",
   "metadata": {},
   "source": [
    "<h3> Check if labels and ids match across gyroscope and accelerator </h3>"
   ]
  },
  {
   "cell_type": "code",
   "execution_count": 96,
   "metadata": {},
   "outputs": [
    {
     "name": "stderr",
     "output_type": "stream",
     "text": [
      "100%|██████████████████████████████| 3370861/3370861 [08:22<00:00, 6708.43it/s]\n"
     ]
    }
   ],
   "source": [
    "#Check if labels match across gyroscope and accelerator \n",
    "label_check=[]\n",
    "for r in tqdm(np.arange(len(combined_df))):\n",
    "    if (combined_df.ac_x[r] == combined_df.ac_y[r]):\n",
    "        label_check.append('True')\n",
    "    else:\n",
    "        label_check.append('False')"
   ]
  },
  {
   "cell_type": "code",
   "execution_count": 99,
   "metadata": {},
   "outputs": [
    {
     "data": {
      "text/plain": [
       "3368542"
      ]
     },
     "execution_count": 99,
     "metadata": {},
     "output_type": "execute_result"
    }
   ],
   "source": [
    "label_check.count('True')"
   ]
  },
  {
   "cell_type": "code",
   "execution_count": 100,
   "metadata": {},
   "outputs": [
    {
     "data": {
      "text/plain": [
       "2319"
      ]
     },
     "execution_count": 100,
     "metadata": {},
     "output_type": "execute_result"
    }
   ],
   "source": [
    "label_check.count('False')"
   ]
  },
  {
   "cell_type": "code",
   "execution_count": 105,
   "metadata": {},
   "outputs": [
    {
     "data": {
      "text/plain": [
       "0.06884284061175429"
      ]
     },
     "execution_count": 105,
     "metadata": {},
     "output_type": "execute_result"
    }
   ],
   "source": [
    "(2319/3368542)*100"
   ]
  },
  {
   "cell_type": "markdown",
   "metadata": {},
   "source": [
    "0.07% of the data is labelled incorrectly (most likely due to computer error), this should not make a significant difference to the results"
   ]
  },
  {
   "cell_type": "code",
   "execution_count": 15,
   "metadata": {},
   "outputs": [
    {
     "name": "stderr",
     "output_type": "stream",
     "text": [
      "100%|██████████████████████████████| 3370861/3370861 [08:14<00:00, 6818.10it/s]\n"
     ]
    }
   ],
   "source": [
    "#Check if ids match across gyroscope and accelerator \n",
    "id_check=[]\n",
    "for r in tqdm(np.arange(len(combined_df))):\n",
    "    if (combined_df.id_x[r] == combined_df.id_y[r]):\n",
    "        id_check.append('True')\n",
    "    else:\n",
    "        id_check.append('False')"
   ]
  },
  {
   "cell_type": "code",
   "execution_count": 16,
   "metadata": {},
   "outputs": [
    {
     "data": {
      "text/plain": [
       "3370861"
      ]
     },
     "execution_count": 16,
     "metadata": {},
     "output_type": "execute_result"
    }
   ],
   "source": [
    "id_check.count('True')"
   ]
  },
  {
   "cell_type": "code",
   "execution_count": 17,
   "metadata": {},
   "outputs": [
    {
     "data": {
      "text/plain": [
       "0"
      ]
     },
     "execution_count": 17,
     "metadata": {},
     "output_type": "execute_result"
    }
   ],
   "source": [
    "id_check.count('False')"
   ]
  },
  {
   "cell_type": "markdown",
   "metadata": {},
   "source": [
    "<h3> Clean up the combined table and give binary labels </h3>\n",
    "<p>The activities will be split into two categories: Sedimentry and active. <br>\n",
    "    Sedimentary activies are: sitting, typing, writing (D, F, Q)<br>\n",
    "    Active activities are: Walking, jogging, stairs, standing, kicking (football), playing catch w/tennis ball, dribbling, folding clothes (A, B, C, E, M, O, P, S) </p>\n",
    "    "
   ]
  },
  {
   "cell_type": "code",
   "execution_count": 80,
   "metadata": {},
   "outputs": [
    {
     "data": {
      "text/html": [
       "<div>\n",
       "<style scoped>\n",
       "    .dataframe tbody tr th:only-of-type {\n",
       "        vertical-align: middle;\n",
       "    }\n",
       "\n",
       "    .dataframe tbody tr th {\n",
       "        vertical-align: top;\n",
       "    }\n",
       "\n",
       "    .dataframe thead th {\n",
       "        text-align: right;\n",
       "    }\n",
       "</style>\n",
       "<table border=\"1\" class=\"dataframe\">\n",
       "  <thead>\n",
       "    <tr style=\"text-align: right;\">\n",
       "      <th></th>\n",
       "      <th>ac_x</th>\n",
       "      <th>timestamp</th>\n",
       "      <th>a-x</th>\n",
       "      <th>a-y</th>\n",
       "      <th>a-z</th>\n",
       "      <th>g-x</th>\n",
       "      <th>g-y</th>\n",
       "      <th>g-z</th>\n",
       "    </tr>\n",
       "  </thead>\n",
       "  <tbody>\n",
       "    <tr>\n",
       "      <td>0</td>\n",
       "      <td>A</td>\n",
       "      <td>90426757696641</td>\n",
       "      <td>4.972757</td>\n",
       "      <td>-0.158317</td>\n",
       "      <td>6.6967316;</td>\n",
       "      <td>0.314944</td>\n",
       "      <td>-1.022277</td>\n",
       "      <td>-0.3099616;</td>\n",
       "    </tr>\n",
       "    <tr>\n",
       "      <td>1</td>\n",
       "      <td>A</td>\n",
       "      <td>90426807196641</td>\n",
       "      <td>3.253720</td>\n",
       "      <td>-0.191835</td>\n",
       "      <td>6.107758;</td>\n",
       "      <td>0.387382</td>\n",
       "      <td>-0.618541</td>\n",
       "      <td>-0.048971802;</td>\n",
       "    </tr>\n",
       "    <tr>\n",
       "      <td>2</td>\n",
       "      <td>A</td>\n",
       "      <td>90426856696641</td>\n",
       "      <td>2.801216</td>\n",
       "      <td>-0.155922</td>\n",
       "      <td>5.997625;</td>\n",
       "      <td>0.070999</td>\n",
       "      <td>-0.209480</td>\n",
       "      <td>-0.1959783;</td>\n",
       "    </tr>\n",
       "    <tr>\n",
       "      <td>3</td>\n",
       "      <td>A</td>\n",
       "      <td>90426906196641</td>\n",
       "      <td>3.770868</td>\n",
       "      <td>-1.051354</td>\n",
       "      <td>7.731027;</td>\n",
       "      <td>0.037975</td>\n",
       "      <td>0.254976</td>\n",
       "      <td>-0.1565635;</td>\n",
       "    </tr>\n",
       "    <tr>\n",
       "      <td>4</td>\n",
       "      <td>A</td>\n",
       "      <td>90426955696641</td>\n",
       "      <td>4.661511</td>\n",
       "      <td>0.169689</td>\n",
       "      <td>9.684695;</td>\n",
       "      <td>0.073129</td>\n",
       "      <td>0.719431</td>\n",
       "      <td>-0.0010349044;</td>\n",
       "    </tr>\n",
       "  </tbody>\n",
       "</table>\n",
       "</div>"
      ],
      "text/plain": [
       "  ac_x       timestamp       a-x       a-y         a-z       g-x       g-y  \\\n",
       "0    A  90426757696641  4.972757 -0.158317  6.6967316;  0.314944 -1.022277   \n",
       "1    A  90426807196641  3.253720 -0.191835   6.107758;  0.387382 -0.618541   \n",
       "2    A  90426856696641  2.801216 -0.155922   5.997625;  0.070999 -0.209480   \n",
       "3    A  90426906196641  3.770868 -1.051354   7.731027;  0.037975  0.254976   \n",
       "4    A  90426955696641  4.661511  0.169689   9.684695;  0.073129  0.719431   \n",
       "\n",
       "              g-z  \n",
       "0     -0.3099616;  \n",
       "1   -0.048971802;  \n",
       "2     -0.1959783;  \n",
       "3     -0.1565635;  \n",
       "4  -0.0010349044;  "
      ]
     },
     "execution_count": 80,
     "metadata": {},
     "output_type": "execute_result"
    }
   ],
   "source": [
    "clean_combined_df=combined_df.copy()\n",
    "clean_combined_df=clean_combined_df[['ac_x','timestamp','a-x','a-y','a-z','g-x','g-y','g-z']]\n",
    "clean_combined_df.head()"
   ]
  },
  {
   "cell_type": "code",
   "execution_count": 81,
   "metadata": {},
   "outputs": [],
   "source": [
    "#delete semicolon and convert to integer\n",
    "clean_combined_df['a-z'] = clean_combined_df['a-z'].str.replace(';', '').astype(float)\n",
    "clean_combined_df['g-z'] = clean_combined_df['g-z'].str.replace(';', '').astype(float)"
   ]
  },
  {
   "cell_type": "code",
   "execution_count": 82,
   "metadata": {},
   "outputs": [
    {
     "data": {
      "text/html": [
       "<div>\n",
       "<style scoped>\n",
       "    .dataframe tbody tr th:only-of-type {\n",
       "        vertical-align: middle;\n",
       "    }\n",
       "\n",
       "    .dataframe tbody tr th {\n",
       "        vertical-align: top;\n",
       "    }\n",
       "\n",
       "    .dataframe thead th {\n",
       "        text-align: right;\n",
       "    }\n",
       "</style>\n",
       "<table border=\"1\" class=\"dataframe\">\n",
       "  <thead>\n",
       "    <tr style=\"text-align: right;\">\n",
       "      <th></th>\n",
       "      <th>ac_x</th>\n",
       "      <th>timestamp</th>\n",
       "      <th>a-x</th>\n",
       "      <th>a-y</th>\n",
       "      <th>a-z</th>\n",
       "      <th>g-x</th>\n",
       "      <th>g-y</th>\n",
       "      <th>g-z</th>\n",
       "    </tr>\n",
       "  </thead>\n",
       "  <tbody>\n",
       "    <tr>\n",
       "      <td>0</td>\n",
       "      <td>A</td>\n",
       "      <td>90426757696641</td>\n",
       "      <td>4.972757</td>\n",
       "      <td>-0.158317</td>\n",
       "      <td>6.696732</td>\n",
       "      <td>0.314944</td>\n",
       "      <td>-1.022277</td>\n",
       "      <td>-0.309962</td>\n",
       "    </tr>\n",
       "    <tr>\n",
       "      <td>1</td>\n",
       "      <td>A</td>\n",
       "      <td>90426807196641</td>\n",
       "      <td>3.253720</td>\n",
       "      <td>-0.191835</td>\n",
       "      <td>6.107758</td>\n",
       "      <td>0.387382</td>\n",
       "      <td>-0.618541</td>\n",
       "      <td>-0.048972</td>\n",
       "    </tr>\n",
       "    <tr>\n",
       "      <td>2</td>\n",
       "      <td>A</td>\n",
       "      <td>90426856696641</td>\n",
       "      <td>2.801216</td>\n",
       "      <td>-0.155922</td>\n",
       "      <td>5.997625</td>\n",
       "      <td>0.070999</td>\n",
       "      <td>-0.209480</td>\n",
       "      <td>-0.195978</td>\n",
       "    </tr>\n",
       "    <tr>\n",
       "      <td>3</td>\n",
       "      <td>A</td>\n",
       "      <td>90426906196641</td>\n",
       "      <td>3.770868</td>\n",
       "      <td>-1.051354</td>\n",
       "      <td>7.731027</td>\n",
       "      <td>0.037975</td>\n",
       "      <td>0.254976</td>\n",
       "      <td>-0.156563</td>\n",
       "    </tr>\n",
       "    <tr>\n",
       "      <td>4</td>\n",
       "      <td>A</td>\n",
       "      <td>90426955696641</td>\n",
       "      <td>4.661511</td>\n",
       "      <td>0.169689</td>\n",
       "      <td>9.684695</td>\n",
       "      <td>0.073129</td>\n",
       "      <td>0.719431</td>\n",
       "      <td>-0.001035</td>\n",
       "    </tr>\n",
       "  </tbody>\n",
       "</table>\n",
       "</div>"
      ],
      "text/plain": [
       "  ac_x       timestamp       a-x       a-y       a-z       g-x       g-y  \\\n",
       "0    A  90426757696641  4.972757 -0.158317  6.696732  0.314944 -1.022277   \n",
       "1    A  90426807196641  3.253720 -0.191835  6.107758  0.387382 -0.618541   \n",
       "2    A  90426856696641  2.801216 -0.155922  5.997625  0.070999 -0.209480   \n",
       "3    A  90426906196641  3.770868 -1.051354  7.731027  0.037975  0.254976   \n",
       "4    A  90426955696641  4.661511  0.169689  9.684695  0.073129  0.719431   \n",
       "\n",
       "        g-z  \n",
       "0 -0.309962  \n",
       "1 -0.048972  \n",
       "2 -0.195978  \n",
       "3 -0.156563  \n",
       "4 -0.001035  "
      ]
     },
     "execution_count": 82,
     "metadata": {},
     "output_type": "execute_result"
    }
   ],
   "source": [
    "cat_combined_df = clean_combined_df[clean_combined_df['ac_x'].str.contains('A|B|C|D|E|F|M|O|P|Q|S')]\n",
    "cat_combined_df.head()"
   ]
  },
  {
   "cell_type": "code",
   "execution_count": 83,
   "metadata": {},
   "outputs": [
    {
     "name": "stdout",
     "output_type": "stream",
     "text": [
      "0          1\n",
      "1          1\n",
      "2          1\n",
      "3          1\n",
      "4          1\n",
      "          ..\n",
      "3370856    1\n",
      "3370857    1\n",
      "3370858    1\n",
      "3370859    1\n",
      "3370860    1\n",
      "Name: cat label, Length: 2057809, dtype: int32\n"
     ]
    }
   ],
   "source": [
    "label_combined_df=cat_combined_df.copy()\n",
    "label_combined_df['cat label']=(label_combined_df['ac_x'].str.contains('A|B|C|E|M|O|P|S'))*1\n",
    "print(label_combined_df['cat label'])"
   ]
  },
  {
   "cell_type": "markdown",
   "metadata": {},
   "source": [
    "<h3>Data classification using desision trees</h3> "
   ]
  },
  {
   "cell_type": "code",
   "execution_count": 84,
   "metadata": {},
   "outputs": [],
   "source": [
    "y=label_combined_df[['cat label']].copy()"
   ]
  },
  {
   "cell_type": "markdown",
   "metadata": {},
   "source": [
    "Use accelerator and gyroscope features to predict the category of activity"
   ]
  },
  {
   "cell_type": "code",
   "execution_count": 85,
   "metadata": {},
   "outputs": [],
   "source": [
    "features=['a-x','a-y','a-z','g-x','g-y','g-z']"
   ]
  },
  {
   "cell_type": "code",
   "execution_count": 86,
   "metadata": {},
   "outputs": [],
   "source": [
    "X = label_combined_df[features].copy()"
   ]
  },
  {
   "cell_type": "code",
   "execution_count": 87,
   "metadata": {},
   "outputs": [],
   "source": [
    "X_train, X_test, y_train, y_test = train_test_split(X, y, test_size=0.33, random_state=324)"
   ]
  },
  {
   "cell_type": "markdown",
   "metadata": {},
   "source": [
    "Training phase"
   ]
  },
  {
   "cell_type": "code",
   "execution_count": 88,
   "metadata": {},
   "outputs": [
    {
     "data": {
      "text/plain": [
       "DecisionTreeClassifier(class_weight=None, criterion='gini', max_depth=None,\n",
       "                       max_features=None, max_leaf_nodes=10,\n",
       "                       min_impurity_decrease=0.0, min_impurity_split=None,\n",
       "                       min_samples_leaf=1, min_samples_split=2,\n",
       "                       min_weight_fraction_leaf=0.0, presort=False,\n",
       "                       random_state=0, splitter='best')"
      ]
     },
     "execution_count": 88,
     "metadata": {},
     "output_type": "execute_result"
    }
   ],
   "source": [
    "activities_classifier = DecisionTreeClassifier(max_leaf_nodes=10, random_state=0)\n",
    "activities_classifier.fit(X_train, y_train)"
   ]
  },
  {
   "cell_type": "markdown",
   "metadata": {},
   "source": [
    "Testing phase"
   ]
  },
  {
   "cell_type": "code",
   "execution_count": 89,
   "metadata": {},
   "outputs": [],
   "source": [
    "predictions = activities_classifier.predict(X_test)"
   ]
  },
  {
   "cell_type": "markdown",
   "metadata": {},
   "source": [
    "Accuracy test"
   ]
  },
  {
   "cell_type": "code",
   "execution_count": 93,
   "metadata": {},
   "outputs": [
    {
     "data": {
      "text/plain": [
       "0.9299460885878921"
      ]
     },
     "execution_count": 93,
     "metadata": {},
     "output_type": "execute_result"
    }
   ],
   "source": [
    "accuracy_score(y_true = y_test, y_pred = predictions)"
   ]
  },
  {
   "cell_type": "markdown",
   "metadata": {},
   "source": [
    "We can distinguish between sedimentary and active activities to a 93% accuracy"
   ]
  },
  {
   "cell_type": "code",
   "execution_count": null,
   "metadata": {},
   "outputs": [],
   "source": []
  }
 ],
 "metadata": {
  "kernelspec": {
   "display_name": "Python 3",
   "language": "python",
   "name": "python3"
  },
  "language_info": {
   "codemirror_mode": {
    "name": "ipython",
    "version": 3
   },
   "file_extension": ".py",
   "mimetype": "text/x-python",
   "name": "python",
   "nbconvert_exporter": "python",
   "pygments_lexer": "ipython3",
   "version": "3.7.3"
  }
 },
 "nbformat": 4,
 "nbformat_minor": 2
}
